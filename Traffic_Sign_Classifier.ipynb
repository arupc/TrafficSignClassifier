{
 "cells": [
  {
   "cell_type": "markdown",
   "metadata": {},
   "source": [
    "# Self-Driving Car Engineer Nanodegree\n",
    "\n",
    "## Deep Learning\n",
    "\n",
    "## Project: Build a Traffic Sign Recognition Classifier\n",
    "\n",
    "In this notebook, a template is provided for you to implement your functionality in stages, which is required to successfully complete this project. If additional code is required that cannot be included in the notebook, be sure that the Python code is successfully imported and included in your submission if necessary. \n",
    "\n",
    "> **Note**: Once you have completed all of the code implementations, you need to finalize your work by exporting the iPython Notebook as an HTML document. Before exporting the notebook to html, all of the code cells need to have been run so that reviewers can see the final implementation and output. You can then export the notebook by using the menu above and navigating to  \\n\",\n",
    "    \"**File -> Download as -> HTML (.html)**. Include the finished document along with this notebook as your submission. \n",
    "\n",
    "In addition to implementing code, there is a writeup to complete. The writeup should be completed in a separate file, which can be either a markdown file or a pdf document. There is a [write up template](https://github.com/udacity/CarND-Traffic-Sign-Classifier-Project/blob/master/writeup_template.md) that can be used to guide the writing process. Completing the code template and writeup template will cover all of the [rubric points](https://review.udacity.com/#!/rubrics/481/view) for this project.\n",
    "\n",
    "The [rubric](https://review.udacity.com/#!/rubrics/481/view) contains \"Stand Out Suggestions\" for enhancing the project beyond the minimum requirements. The stand out suggestions are optional. If you decide to pursue the \"stand out suggestions\", you can include the code in this Ipython notebook and also discuss the results in the writeup file.\n",
    "\n",
    "\n",
    ">**Note:** Code and Markdown cells can be executed using the **Shift + Enter** keyboard shortcut. In addition, Markdown cells can be edited by typically double-clicking the cell to enter edit mode."
   ]
  },
  {
   "cell_type": "markdown",
   "metadata": {},
   "source": [
    "---\n",
    "## Step 0: Load The Data"
   ]
  },
  {
   "cell_type": "code",
   "execution_count": 1,
   "metadata": {},
   "outputs": [
    {
     "data": {
      "text/plain": [
       "numpy.ndarray"
      ]
     },
     "execution_count": 1,
     "metadata": {},
     "output_type": "execute_result"
    }
   ],
   "source": [
    "# Load pickled data\n",
    "import pickle\n",
    "\n",
    "# TODO: Fill this in based on where you saved the training and testing data\n",
    "dataset_dir = './traffic-signs-data/'\n",
    "training_file = dataset_dir + 'train.p'\n",
    "validation_file= dataset_dir + 'valid.p'\n",
    "testing_file = dataset_dir + 'test.p'\n",
    "\n",
    "with open(training_file, mode='rb') as f:\n",
    "    train = pickle.load(f)\n",
    "with open(validation_file, mode='rb') as f:\n",
    "    valid = pickle.load(f)\n",
    "with open(testing_file, mode='rb') as f:\n",
    "    test = pickle.load(f)\n",
    "    \n",
    "X_train, y_train = train['features'], train['labels']\n",
    "X_valid, y_valid = valid['features'], valid['labels']\n",
    "X_test, y_test = test['features'], test['labels']\n",
    "X_test.shape\n",
    "type(X_train[0])"
   ]
  },
  {
   "cell_type": "markdown",
   "metadata": {},
   "source": [
    "---\n",
    "\n",
    "## Step 1: Dataset Summary & Exploration\n",
    "\n",
    "The pickled data is a dictionary with 4 key/value pairs:\n",
    "\n",
    "- `'features'` is a 4D array containing raw pixel data of the traffic sign images, (num examples, width, height, channels).\n",
    "- `'labels'` is a 1D array containing the label/class id of the traffic sign. The file `signnames.csv` contains id -> name mappings for each id.\n",
    "- `'sizes'` is a list containing tuples, (width, height) representing the original width and height the image.\n",
    "- `'coords'` is a list containing tuples, (x1, y1, x2, y2) representing coordinates of a bounding box around the sign in the image. **THESE COORDINATES ASSUME THE ORIGINAL IMAGE. THE PICKLED DATA CONTAINS RESIZED VERSIONS (32 by 32) OF THESE IMAGES**\n",
    "\n",
    "Complete the basic data summary below. Use python, numpy and/or pandas methods to calculate the data summary rather than hard coding the results. For example, the [pandas shape method](http://pandas.pydata.org/pandas-docs/stable/generated/pandas.DataFrame.shape.html) might be useful for calculating some of the summary results. "
   ]
  },
  {
   "cell_type": "markdown",
   "metadata": {},
   "source": [
    "### Provide a Basic Summary of the Data Set Using Python, Numpy and/or Pandas"
   ]
  },
  {
   "cell_type": "code",
   "execution_count": 20,
   "metadata": {},
   "outputs": [
    {
     "name": "stdout",
     "output_type": "stream",
     "text": [
      "Number of training examples = 104397\n",
      "Number of validation examples = 4410\n",
      "Number of testing examples = 12630\n",
      "Image data shape = (32, 32, 3)\n",
      "Number of classes = 43\n"
     ]
    }
   ],
   "source": [
    "### Replace each question mark with the appropriate value. \n",
    "### Use python, pandas or numpy methods rather than hard coding the results\n",
    "\n",
    "# TODO: Number of training examples\n",
    "n_train = len(X_train)\n",
    "assert len(X_train) == len(y_train)\n",
    "\n",
    "# TODO: Number of validation examples\n",
    "n_validation = len(X_valid)\n",
    "assert len(X_valid) == len(y_valid)\n",
    "\n",
    "# TODO: Number of testing examples.\n",
    "n_test = len(X_test)\n",
    "assert len(X_test) == len(y_test)\n",
    "\n",
    "# TODO: What's the shape of an traffic sign image?\n",
    "image_width = X_test.shape[1]\n",
    "image_height = X_test.shape[2]\n",
    "image_channels = X_test.shape[3]\n",
    "image_shape = (image_width, image_height, image_channels)\n",
    "\n",
    "# TODO: How many unique classes/labels there are in the dataset.\n",
    "n_classes = len(set(y_train))\n",
    "\n",
    "print(\"Number of training examples =\", n_train)\n",
    "print(\"Number of validation examples =\", n_validation)\n",
    "print(\"Number of testing examples =\", n_test)\n",
    "print(\"Image data shape =\", image_shape)\n",
    "print(\"Number of classes =\", n_classes)"
   ]
  },
  {
   "cell_type": "markdown",
   "metadata": {},
   "source": [
    "### Include an exploratory visualization of the dataset"
   ]
  },
  {
   "cell_type": "markdown",
   "metadata": {},
   "source": [
    "Visualize the German Traffic Signs Dataset using the pickled file(s). This is open ended, suggestions include: plotting traffic sign images, plotting the count of each sign, etc. \n",
    "\n",
    "The [Matplotlib](http://matplotlib.org/) [examples](http://matplotlib.org/examples/index.html) and [gallery](http://matplotlib.org/gallery.html) pages are a great resource for doing visualizations in Python.\n",
    "\n",
    "**NOTE:** It's recommended you start with something simple first. If you wish to do more, come back to it after you've completed the rest of the sections. It can be interesting to look at the distribution of classes in the training, validation and test set. Is the distribution the same? Are there more examples of some classes than others?"
   ]
  },
  {
   "cell_type": "code",
   "execution_count": 3,
   "metadata": {},
   "outputs": [
    {
     "name": "stdout",
     "output_type": "stream",
     "text": [
      "Traffic Sign Id, Traffic Sign Label, Count in Training Set\n",
      "0, Speed limit (20km/h), 180\n",
      "1, Speed limit (30km/h), 1980\n",
      "2, Speed limit (50km/h), 2010\n",
      "3, Speed limit (60km/h), 1260\n",
      "4, Speed limit (70km/h), 1770\n",
      "5, Speed limit (80km/h), 1650\n",
      "6, End of speed limit (80km/h), 360\n",
      "7, Speed limit (100km/h), 1290\n",
      "8, Speed limit (120km/h), 1260\n",
      "9, No passing, 1320\n",
      "10, No passing for vehicles over 3.5 metric tons, 1800\n",
      "11, Right-of-way at the next intersection, 1170\n",
      "12, Priority road, 1890\n",
      "13, Yield, 1920\n",
      "14, Stop, 690\n",
      "15, No vehicles, 540\n",
      "16, Vehicles over 3.5 metric tons prohibited, 360\n",
      "17, No entry, 990\n",
      "18, General caution, 1080\n",
      "19, Dangerous curve to the left, 180\n",
      "20, Dangerous curve to the right, 300\n",
      "21, Double curve, 270\n",
      "22, Bumpy road, 330\n",
      "23, Slippery road, 450\n",
      "24, Road narrows on the right, 240\n",
      "25, Road work, 1350\n",
      "26, Traffic signals, 540\n",
      "27, Pedestrians, 210\n",
      "28, Children crossing, 480\n",
      "29, Bicycles crossing, 240\n",
      "30, Beware of ice/snow, 390\n",
      "31, Wild animals crossing, 690\n",
      "32, End of all speed and passing limits, 210\n",
      "33, Turn right ahead, 599\n",
      "34, Turn left ahead, 360\n",
      "35, Ahead only, 1080\n",
      "36, Go straight or right, 330\n",
      "37, Go straight or left, 180\n",
      "38, Keep right, 1860\n",
      "39, Keep left, 270\n",
      "40, Roundabout mandatory, 300\n",
      "41, End of no passing, 210\n",
      "42, End of no passing by vehicles over 3.5 metric tons, 210\n",
      "\n"
     ]
    },
    {
     "data": {
      "image/png": "[encoded data removed]",
      "text/plain": [
       "<matplotlib.figure.Figure at 0x12a738710>"
      ]
     },
     "metadata": {},
     "output_type": "display_data"
    }
   ],
   "source": [
    "import csv\n",
    "import collections\n",
    "import random\n",
    "import numpy as np\n",
    "### Data exploration visualization code goes here.\n",
    "### Feel free to use as many code cells as needed.\n",
    "import matplotlib.pyplot as plt\n",
    "# Visualizations will be shown in the notebook.\n",
    "%matplotlib inline\n",
    "\n",
    "signnames = {}\n",
    "with open('signnames.csv', 'r') as csvfile:\n",
    "    csvreader = csv.reader(csvfile)\n",
    "    next(csvreader) # skip header\n",
    "    for row in csvreader:\n",
    "        # add each sign description to the dictionary\n",
    "        if row[0] in signnames :\n",
    "            raise RuntimeError('key ' + row[0] + ' already exists: ' + signames[row[0]])\n",
    "        signnames[row[0]] = row[1]\n",
    "        \n",
    "counter = collections.Counter(y_train)\n",
    "print(\"Traffic Sign Id, Traffic Sign Label, Count in Training Set\")\n",
    "for elem, count in counter.items() :\n",
    "    label = signnames[str(elem)]\n",
    "    print(\"%d, %s, %d\" %(elem, label, count))\n",
    "\n",
    "print()\n",
    "# Plot counts of five most common signs\n",
    "objects = []\n",
    "counts = []\n",
    "for elem, count in counter.most_common(5) :\n",
    "    label = signnames[str(elem)]\n",
    "    objects.append(label)\n",
    "    counts.append(count)\n",
    "    \n",
    "y_pos = np.arange(len(objects)) \n",
    "plt.barh(y_pos, counts, align='center', alpha=0.5)\n",
    "plt.yticks(y_pos, objects)\n",
    "plt.xlabel('Signs')\n",
    "plt.title('Counts of five most common signs') \n",
    "plt.show()    \n",
    "\n",
    "    "
   ]
  },
  {
   "cell_type": "code",
   "execution_count": 4,
   "metadata": {},
   "outputs": [
    {
     "data": {
      "image/png": "[encoded data removed]",
      "text/plain": [
       "<matplotlib.figure.Figure at 0x1167d3390>"
      ]
     },
     "metadata": {},
     "output_type": "display_data"
    },
    {
     "name": "stdout",
     "output_type": "stream",
     "text": [
      "sign id: 10 No passing for vehicles over 3.5 metric tons\n",
      "per channel means:  [ 124.68847656  106.96972656  108.7109375 ]\n"
     ]
    },
    {
     "data": {
      "image/png": "[encoded data removed]",
      "text/plain": [
       "<matplotlib.figure.Figure at 0x12a74b198>"
      ]
     },
     "metadata": {},
     "output_type": "display_data"
    },
    {
     "name": "stdout",
     "output_type": "stream",
     "text": [
      "sign id: 25 Road work\n",
      "per channel means:  [ 47.58789062  39.56640625  35.07617188]\n"
     ]
    },
    {
     "data": {
      "image/png": "[encoded data removed]",
      "text/plain": [
       "<matplotlib.figure.Figure at 0x12c7b70f0>"
      ]
     },
     "metadata": {},
     "output_type": "display_data"
    },
    {
     "name": "stdout",
     "output_type": "stream",
     "text": [
      "sign id: 30 Beware of ice/snow\n",
      "per channel means:  [ 188.78515625  188.36816406  197.01660156]\n"
     ]
    },
    {
     "data": {
      "image/png": "[encoded data removed]",
      "text/plain": [
       "<matplotlib.figure.Figure at 0x12c8010b8>"
      ]
     },
     "metadata": {},
     "output_type": "display_data"
    },
    {
     "name": "stdout",
     "output_type": "stream",
     "text": [
      "sign id: 17 No entry\n",
      "per channel means:  [ 122.86425781   74.44921875   69.5234375 ]\n"
     ]
    },
    {
     "data": {
      "image/png": "[encoded data removed]",
      "text/plain": [
       "<matplotlib.figure.Figure at 0x12c831cc0>"
      ]
     },
     "metadata": {},
     "output_type": "display_data"
    },
    {
     "name": "stdout",
     "output_type": "stream",
     "text": [
      "sign id: 22 Bumpy road\n",
      "per channel means:  [ 176.02832031  166.70410156  163.08203125]\n",
      "\n",
      "mean of training data\n"
     ]
    },
    {
     "data": {
      "image/png": "[encoded data removed]",
      "text/plain": [
       "<matplotlib.figure.Figure at 0x12c89b2b0>"
      ]
     },
     "metadata": {},
     "output_type": "display_data"
    },
    {
     "name": "stdout",
     "output_type": "stream",
     "text": [
      "stddev of training data\n"
     ]
    },
    {
     "data": {
      "image/png": "[encoded data removed]",
      "text/plain": [
       "<matplotlib.figure.Figure at 0x12c8c7e80>"
      ]
     },
     "metadata": {},
     "output_type": "display_data"
    }
   ],
   "source": [
    "# show five randomly selected traffic signs\n",
    "for i in range(0,5) :\n",
    "    index = random.randint(0, len(X_train))\n",
    "    image = X_train[index].squeeze()\n",
    "\n",
    "    plt.figure(figsize=(1,1))\n",
    "    plt.imshow(image)\n",
    "    plt.show()\n",
    "    print(\"sign id:\", y_train[index], signnames[str(y_train[index])])\n",
    "    \n",
    "    # per channel mean for each picture\n",
    "    # results show different pictures may have different brightness\n",
    "    channel_means = image.mean(axis=(0,1))\n",
    "    print(\"per channel means: \", channel_means)\n",
    "    \n",
    "print()    \n",
    "# calculate mean and stddev image from training set\n",
    "mean_image = X_train.mean(axis=0)\n",
    "stddev_image = X_train.std(axis=0)\n",
    "# show them\n",
    "print(\"mean of training data\")\n",
    "plt.figure(figsize=(1,1))\n",
    "plt.imshow(mean_image)\n",
    "plt.show()\n",
    "print(\"stddev of training data\")\n",
    "plt.figure(figsize=(1,1))\n",
    "plt.imshow(stddev_image)\n",
    "plt.show()\n",
    "\n",
    "feature_standardized = False"
   ]
  },
  {
   "cell_type": "markdown",
   "metadata": {},
   "source": [
    "----\n",
    "\n",
    "## Step 2: Design and Test a Model Architecture\n",
    "\n",
    "Design and implement a deep learning model that learns to recognize traffic signs. Train and test your model on the [German Traffic Sign Dataset](http://benchmark.ini.rub.de/?section=gtsrb&subsection=dataset).\n",
    "\n",
    "The LeNet-5 implementation shown in the [classroom](https://classroom.udacity.com/nanodegrees/nd013/parts/fbf77062-5703-404e-b60c-95b78b2f3f9e/modules/6df7ae49-c61c-4bb2-a23e-6527e69209ec/lessons/601ae704-1035-4287-8b11-e2c2716217ad/concepts/d4aca031-508f-4e0b-b493-e7b706120f81) at the end of the CNN lesson is a solid starting point. You'll have to change the number of classes and possibly the preprocessing, but aside from that it's plug and play! \n",
    "\n",
    "With the LeNet-5 solution from the lecture, you should expect a validation set accuracy of about 0.89. To meet specifications, the validation set accuracy will need to be at least 0.93. It is possible to get an even higher accuracy, but 0.93 is the minimum for a successful project submission. \n",
    "\n",
    "There are various aspects to consider when thinking about this problem:\n",
    "\n",
    "- Neural network architecture (is the network over or underfitting?)\n",
    "- Play around preprocessing techniques (normalization, rgb to grayscale, etc)\n",
    "- Number of examples per label (some have more than others).\n",
    "- Generate fake data.\n",
    "\n",
    "Here is an example of a [published baseline model on this problem](http://yann.lecun.com/exdb/publis/pdf/sermanet-ijcnn-11.pdf). It's not required to be familiar with the approach used in the paper but, it's good practice to try to read papers like these."
   ]
  },
  {
   "cell_type": "markdown",
   "metadata": {},
   "source": [
    "### Pre-process the Data Set (normalization, grayscale, etc.)"
   ]
  },
  {
   "cell_type": "markdown",
   "metadata": {},
   "source": [
    "Minimally, the image data should be normalized so that the data has mean zero and equal variance. For image data, `(pixel - 128)/ 128` is a quick way to approximately normalize the data and can be used in this project. \n",
    "\n",
    "Other pre-processing steps are optional. You can try different techniques to see if it improves performance. \n",
    "\n",
    "Use the code cell (or multiple code cells, if necessary) to implement the first step of your project."
   ]
  },
  {
   "cell_type": "code",
   "execution_count": 5,
   "metadata": {},
   "outputs": [
    {
     "name": "stdout",
     "output_type": "stream",
     "text": [
      "Example of rotated image\n",
      "shape of pre-processed and augmentated training data : (104397, 32, 32, 3) (104397,)\n"
     ]
    },
    {
     "data": {
      "image/png": "[encoded data removed]",
      "text/plain": [
       "<matplotlib.figure.Figure at 0x130526198>"
      ]
     },
     "metadata": {},
     "output_type": "display_data"
    },
    {
     "data": {
      "image/png": "[encoded data removed]",
      "text/plain": [
       "<matplotlib.figure.Figure at 0x13052c6a0>"
      ]
     },
     "metadata": {},
     "output_type": "display_data"
    },
    {
     "data": {
      "image/png": "[encoded data removed]",
      "text/plain": [
       "<matplotlib.figure.Figure at 0x131865d68>"
      ]
     },
     "metadata": {},
     "output_type": "display_data"
    }
   ],
   "source": [
    "### Preprocess the data here. It is required to normalize the data. Other preprocessing steps could include \n",
    "### converting to grayscale, etc.\n",
    "### Feel free to use as many code cells as needed.\n",
    "import cv2\n",
    "\n",
    "def preprocess(images) :\n",
    "    # rescale to [0,1]\n",
    "    images = 0.1 + (images / 255.0)*0.8\n",
    "    # remove per channel brightness from each image\n",
    "    for image in images :\n",
    "        channel_means = image.mean(axis=(0,1))\n",
    "        for channel in range(0,image.shape[2]) : \n",
    "            image[:,:,channel] -= channel_means[channel]\n",
    "    # calculate mean and stddev for each dimension for all images\n",
    "    mean_image = images.mean(axis=0)\n",
    "    stddev_image = images.std(axis=0)\n",
    "    # normalize the images\n",
    "    images = images -  mean_image\n",
    "    images = images / stddev_image\n",
    "    return images\n",
    "\n",
    "# Shuffling the training data\n",
    "from sklearn.utils import shuffle\n",
    "X_train, y_train = shuffle(X_train, y_train)\n",
    "\n",
    "# Data augmentation\n",
    "# for each image in X_train, add one image rotated -15 degrees and another rotated +15 degrees\n",
    "print(\"Example of rotated image\")\n",
    "image = X_train[0]\n",
    "plt.figure(figsize=(1,1))\n",
    "plt.imshow(image)\n",
    "rows,cols,ch = image.shape    \n",
    "M = cv2.getRotationMatrix2D((cols/2,rows/2),15,1)\n",
    "rot_image = cv2.warpAffine(image,M,(cols,rows))\n",
    "plt.figure(figsize=(1,1))\n",
    "plt.imshow(rot_image)\n",
    "M = cv2.getRotationMatrix2D((cols/2,rows/2),-15,1)\n",
    "rot_image = cv2.warpAffine(image,M,(cols,rows))\n",
    "plt.figure(figsize=(1,1))\n",
    "plt.imshow(rot_image)\n",
    "\n",
    "if not feature_standardized :\n",
    "    \n",
    "    # data augmentation only for training set\n",
    "    X_aug = []\n",
    "    y_aug = []\n",
    "    for image, label in zip(X_train, y_train) :\n",
    "        rows,cols,ch = image.shape\n",
    "        # rotate by +15 degrees\n",
    "        M = cv2.getRotationMatrix2D((cols/2,rows/2),15,1)\n",
    "        rot_image = cv2.warpAffine(image,M,(cols,rows))\n",
    "        X_aug.append(rot_image)\n",
    "        y_aug.append(label)\n",
    "        # rotate by -15 degrees\n",
    "        M = cv2.getRotationMatrix2D((cols/2,rows/2),-15,1)\n",
    "        rot_image = cv2.warpAffine(image,M,(cols,rows))\n",
    "        X_aug.append(rot_image)\n",
    "        y_aug.append(label)\n",
    "\n",
    "    X_aug = np.array(X_aug)\n",
    "    y_aug = np.array(y_aug)\n",
    "    X_train = np.concatenate((X_train, X_aug))\n",
    "    y_train = np.concatenate((y_train, y_aug))\n",
    "\n",
    "    # pre-process\n",
    "    X_train = preprocess(X_train)\n",
    "    X_valid = preprocess(X_valid)\n",
    "    X_test = preprocess(X_test)\n",
    "    \n",
    "    feature_standardized = True\n",
    "\n",
    "print(\"shape of pre-processed and augmentated training data :\", X_train.shape, y_train.shape)"
   ]
  },
  {
   "cell_type": "markdown",
   "metadata": {},
   "source": [
    "### Model Architecture"
   ]
  },
  {
   "cell_type": "code",
   "execution_count": 6,
   "metadata": {},
   "outputs": [],
   "source": [
    "### Define your architecture here.\n",
    "### Feel free to use as many code cells as needed.\n",
    "\n",
    "# Setting up TensorFlow\n",
    "import tensorflow as tf\n",
    "\n",
    "EPOCHS = 50\n",
    "BATCH_SIZE = 128"
   ]
  },
  {
   "cell_type": "code",
   "execution_count": 7,
   "metadata": {},
   "outputs": [],
   "source": [
    "# LeNet Architecture modified for traffic signs\n",
    "\n",
    "from tensorflow.contrib.layers import flatten\n",
    "\n",
    "def LeNet(x):    \n",
    "    # Arguments used for tf.truncated_normal, randomly defines variables for the weights and biases for each layer\n",
    "    mu = 0\n",
    "    sigma = 0.1\n",
    "    \n",
    "    # ColorMap Layer : Input 32x32x3. Output = 32x32x3\n",
    "    # Filter size : 1x1x3x3\n",
    "    WC = tf.Variable(tf.truncated_normal(shape=(1,1,3,3), mean = mu, stddev=sigma))\n",
    "    BC = tf.Variable(tf.zeros(3))\n",
    "    conv_color = tf.nn.conv2d(x, WC, strides=[1, 1, 1, 1], padding='SAME') + BC\n",
    "    \n",
    "    # TODO: Layer 1: Convolutional. Input = 32x32x3. Output = 28x28x6.\n",
    "    # Filter size must be 5x5x3x6 (height x width x input x output)\n",
    "    W1 = tf.Variable(tf.truncated_normal(shape=(5,5,3,6), mean = mu, stddev=sigma))\n",
    "    # Weights must be of size 6\n",
    "    B1 = tf.Variable(tf.zeros(6))\n",
    "    conv1 = tf.nn.conv2d(conv_color, W1, strides=[1, 1, 1, 1], padding='VALID') + B1\n",
    "\n",
    "    # TODO: Activation.\n",
    "    act1 = tf.nn.relu(conv1)\n",
    "\n",
    "    # TODO: Pooling. Input = 28x28x6. Output = 14x14x6.\n",
    "    pool1 = tf.nn.max_pool(act1, ksize=[1, 2, 2, 1], strides=[1, 2, 2, 1], padding='VALID')\n",
    "\n",
    "    # TODO: Layer 2: Convolutional. Output = 10x10x16.\n",
    "    # Filter size: 5x5x6x16\n",
    "    W2 = tf.Variable(tf.truncated_normal(shape=(5,5,6,16), mean = mu, stddev=sigma)) \n",
    "    # Bias size: 16\n",
    "    B2 = tf.Variable(tf.zeros(16))\n",
    "    conv2 = tf.nn.conv2d(pool1, W2, strides=[1, 1, 1, 1], padding='VALID') + B2\n",
    "    \n",
    "    # TODO: Activation.\n",
    "    act2 = tf.nn.relu(conv2)\n",
    "\n",
    "    # TODO: Pooling. Input = 10x10x16. Output = 5x5x16.\n",
    "    pool2 = tf.nn.max_pool(act2, ksize=[1, 2, 2, 1], strides=[1, 2, 2, 1], padding='VALID')\n",
    "\n",
    "    # TODO: Flatten. Input = 5x5x16. Output = 400\n",
    "    flat_pool2 = flatten(pool2)\n",
    "    \n",
    "    # Input = 14x14x6. Output = 1176\n",
    "    flat_pool1 = flatten(pool1)\n",
    "    \n",
    "    # concat flattened pool1 and pool2\n",
    "    # Input 400 & 1176. Output = 1576\n",
    "    flat = tf.concat(1, [flat_pool2, flat_pool1])\n",
    "    \n",
    "    # TODO: Layer 3: Fully Connected. Input = 1576. Output = 1000.\n",
    "    W3 = tf.Variable(tf.truncated_normal(shape=(1576,1000), mean = mu, stddev=sigma))\n",
    "    B3 = tf.Variable(tf.zeros(1000))\n",
    "    conv3 = tf.add(tf.matmul(flat, W3), B3)\n",
    "    \n",
    "    # TODO: Activation.\n",
    "    act3 = tf.nn.relu(conv3)\n",
    "\n",
    "    # TODO: Layer 4: Fully Connected. Input = 1000. Output = 400.\n",
    "    W4 = tf.Variable(tf.truncated_normal(shape=(1000,400), mean = mu, stddev=sigma))\n",
    "    B4 = tf.Variable(tf.zeros(400))\n",
    "    conv4 = tf.add(tf.matmul(act3, W4), B4)\n",
    "    \n",
    "    # TODO: Activation.\n",
    "    act4 = tf.nn.relu(conv4)\n",
    "\n",
    "    # TODO: Layer 5: Fully Connected. Input = 400. Output = 43.\n",
    "    W5 = tf.Variable(tf.truncated_normal(shape=(400,43), mean = mu, stddev=sigma))\n",
    "    B5 = tf.Variable(tf.zeros(43))\n",
    "    logits = tf.add(tf.matmul(act4, W5), B5)\n",
    "    \n",
    "    return logits"
   ]
  },
  {
   "cell_type": "markdown",
   "metadata": {},
   "source": [
    "### Train, Validate and Test the Model"
   ]
  },
  {
   "cell_type": "markdown",
   "metadata": {},
   "source": [
    "A validation set can be used to assess how well the model is performing. A low accuracy on the training and validation\n",
    "sets imply underfitting. A high accuracy on the training set but low accuracy on the validation set implies overfitting."
   ]
  },
  {
   "cell_type": "code",
   "execution_count": 8,
   "metadata": {},
   "outputs": [],
   "source": [
    "# Placeholders for features and labels\n",
    "x = tf.placeholder(tf.float32, (None, 32, 32, 3))\n",
    "y = tf.placeholder(tf.int32, (None))\n",
    "one_hot_y = tf.one_hot(y, 43)"
   ]
  },
  {
   "cell_type": "code",
   "execution_count": 11,
   "metadata": {},
   "outputs": [],
   "source": [
    "# Training Pipeline\n",
    "rate = 0.001\n",
    "\n",
    "logits = LeNet(x)\n",
    "cross_entropy = tf.nn.softmax_cross_entropy_with_logits(labels=one_hot_y, logits=logits)\n",
    "loss_operation = tf.reduce_mean(cross_entropy)\n",
    "optimizer = tf.train.AdamOptimizer(learning_rate = rate)\n",
    "#optimizer = tf.train.AdamOptimizer()\n",
    "training_operation = optimizer.minimize(loss_operation)\n",
    "\n",
    "# Model Evaluation\n",
    "correct_prediction = tf.equal(tf.argmax(logits, 1), tf.argmax(one_hot_y, 1))\n",
    "accuracy_operation = tf.reduce_mean(tf.cast(correct_prediction, tf.float32))\n",
    "saver = tf.train.Saver()\n",
    "\n",
    "def evaluate(X_data, y_data):\n",
    "    num_examples = len(X_data)\n",
    "    total_accuracy = 0\n",
    "    sess = tf.get_default_session()\n",
    "    for offset in range(0, num_examples, BATCH_SIZE):\n",
    "        batch_x, batch_y = X_data[offset:offset+BATCH_SIZE], y_data[offset:offset+BATCH_SIZE]\n",
    "        accuracy = sess.run(accuracy_operation, feed_dict={x: batch_x, y: batch_y})\n",
    "        total_accuracy += (accuracy * len(batch_x))\n",
    "    return total_accuracy / num_examples"
   ]
  },
  {
   "cell_type": "code",
   "execution_count": 12,
   "metadata": {},
   "outputs": [
    {
     "name": "stdout",
     "output_type": "stream",
     "text": [
      "Training...\n",
      "\n",
      "EPOCH 1: Validation Accuracy = 0.867\n",
      "Model saved\n",
      "\n",
      "EPOCH 2: Validation Accuracy = 0.895\n",
      "Model saved\n",
      "\n",
      "EPOCH 3: Validation Accuracy = 0.879\n",
      "\n",
      "EPOCH 4: Validation Accuracy = 0.902\n",
      "Model saved\n",
      "\n",
      "EPOCH 5: Validation Accuracy = 0.891\n",
      "\n",
      "EPOCH 6: Validation Accuracy = 0.923\n",
      "Model saved\n",
      "\n",
      "EPOCH 7: Validation Accuracy = 0.924\n",
      "Model saved\n",
      "\n",
      "EPOCH 8: Validation Accuracy = 0.890\n",
      "\n",
      "EPOCH 9: Validation Accuracy = 0.878\n",
      "\n",
      "EPOCH 10: Validation Accuracy = 0.928\n",
      "Model saved\n",
      "\n",
      "EPOCH 11: Validation Accuracy = 0.916\n",
      "\n",
      "EPOCH 12: Validation Accuracy = 0.915\n",
      "\n",
      "EPOCH 13: Validation Accuracy = 0.934\n",
      "Model saved\n",
      "\n",
      "EPOCH 14: Validation Accuracy = 0.922\n",
      "\n",
      "EPOCH 15: Validation Accuracy = 0.905\n",
      "\n",
      "EPOCH 16: Validation Accuracy = 0.929\n",
      "\n",
      "EPOCH 17: Validation Accuracy = 0.911\n",
      "\n",
      "EPOCH 18: Validation Accuracy = 0.918\n",
      "\n",
      "EPOCH 19: Validation Accuracy = 0.942\n",
      "Model saved\n",
      "\n",
      "EPOCH 20: Validation Accuracy = 0.909\n",
      "\n",
      "EPOCH 21: Validation Accuracy = 0.917\n",
      "\n",
      "EPOCH 22: Validation Accuracy = 0.914\n",
      "\n",
      "EPOCH 23: Validation Accuracy = 0.924\n",
      "\n",
      "EPOCH 24: Validation Accuracy = 0.920\n",
      "\n",
      "EPOCH 25: Validation Accuracy = 0.914\n",
      "\n",
      "EPOCH 26: Validation Accuracy = 0.927\n",
      "\n",
      "EPOCH 27: Validation Accuracy = 0.938\n",
      "\n",
      "EPOCH 28: Validation Accuracy = 0.933\n",
      "\n",
      "EPOCH 29: Validation Accuracy = 0.930\n",
      "\n",
      "EPOCH 30: Validation Accuracy = 0.933\n",
      "\n",
      "EPOCH 31: Validation Accuracy = 0.923\n",
      "\n",
      "EPOCH 32: Validation Accuracy = 0.930\n",
      "\n",
      "EPOCH 33: Validation Accuracy = 0.937\n",
      "\n",
      "EPOCH 34: Validation Accuracy = 0.910\n",
      "\n",
      "EPOCH 35: Validation Accuracy = 0.918\n",
      "\n",
      "EPOCH 36: Validation Accuracy = 0.920\n",
      "\n",
      "EPOCH 37: Validation Accuracy = 0.928\n",
      "\n",
      "EPOCH 38: Validation Accuracy = 0.918\n",
      "\n",
      "EPOCH 39: Validation Accuracy = 0.949\n",
      "Model saved\n",
      "\n",
      "EPOCH 40: Validation Accuracy = 0.935\n",
      "\n",
      "EPOCH 41: Validation Accuracy = 0.906\n",
      "\n",
      "EPOCH 42: Validation Accuracy = 0.922\n",
      "\n",
      "EPOCH 43: Validation Accuracy = 0.935\n",
      "\n",
      "EPOCH 44: Validation Accuracy = 0.921\n",
      "\n",
      "EPOCH 45: Validation Accuracy = 0.930\n",
      "\n",
      "EPOCH 46: Validation Accuracy = 0.926\n",
      "\n",
      "EPOCH 47: Validation Accuracy = 0.932\n",
      "\n",
      "EPOCH 48: Validation Accuracy = 0.939\n",
      "\n",
      "EPOCH 49: Validation Accuracy = 0.922\n",
      "\n",
      "EPOCH 50: Validation Accuracy = 0.922\n",
      "\n",
      "Max Validation Accuracy 0.949 achieved at epoch 39\n"
     ]
    }
   ],
   "source": [
    "### Train your model here.\n",
    "### Calculate and report the accuracy on the training and validation set.\n",
    "### Feel free to use as many code cells as needed.\n",
    "\n",
    "max_valid_accuracy = 0.0\n",
    "max_valid_epoch = 0\n",
    "max_valid_model_ckpt = './max_valid_ckpt'\n",
    "\n",
    "# Training the model and reporting validation accuracy\n",
    "with tf.Session() as sess:\n",
    "    sess.run(tf.global_variables_initializer())\n",
    "    num_examples = len(X_train)\n",
    "    \n",
    "    print(\"Training...\")\n",
    "    print()\n",
    "    for i in range(EPOCHS):\n",
    "        X_train, y_train = shuffle(X_train, y_train)\n",
    "        for offset in range(0, num_examples, BATCH_SIZE):\n",
    "            end = offset + BATCH_SIZE\n",
    "            batch_x, batch_y = X_train[offset:end], y_train[offset:end]\n",
    "            sess.run(training_operation, feed_dict={x: batch_x, y: batch_y})\n",
    "        \n",
    "        epoch = i + 1\n",
    "        validation_accuracy = evaluate(X_valid, y_valid)\n",
    "        print(\"EPOCH {}: Validation Accuracy = {:.3f}\".format(epoch, validation_accuracy))\n",
    "        \n",
    "        if (validation_accuracy > max_valid_accuracy) : \n",
    "            saver.save(sess, max_valid_model_ckpt)\n",
    "            print(\"Model saved\")\n",
    "            max_valid_accuracy = validation_accuracy\n",
    "            max_valid_epoch = epoch\n",
    "            \n",
    "        print()         \n",
    "    \n",
    "print(\"Max Validation Accuracy {:.3f} achieved at epoch {:d}\".format(max_valid_accuracy, max_valid_epoch))    "
   ]
  },
  {
   "cell_type": "code",
   "execution_count": 13,
   "metadata": {},
   "outputs": [
    {
     "name": "stdout",
     "output_type": "stream",
     "text": [
      "restored session\n",
      "Test Accuracy = 0.929\n",
      "Done\n"
     ]
    }
   ],
   "source": [
    "### Once a final model architecture is selected, \n",
    "### the accuracy on the test set should be calculated and reported as well.\n",
    "ready_to_submit = True\n",
    "\n",
    "if ready_to_submit == True :\n",
    "    with tf.Session() as sess:\n",
    "        saver.restore(sess, max_valid_model_ckpt)\n",
    "        print(\"restored session\")    \n",
    "        test_accuracy = evaluate(X_test, y_test)\n",
    "        print(\"Test Accuracy = {:.3f}\".format(test_accuracy))\n",
    "print(\"Done\")        "
   ]
  },
  {
   "cell_type": "code",
   "execution_count": 14,
   "metadata": {},
   "outputs": [
    {
     "name": "stdout",
     "output_type": "stream",
     "text": [
      "restored session\n",
      "Training Accuracy = 0.999\n",
      "Done\n"
     ]
    }
   ],
   "source": [
    "with tf.Session() as sess:\n",
    "    saver.restore(sess, max_valid_model_ckpt)\n",
    "    print(\"restored session\")    \n",
    "    training_accuracy = evaluate(X_train, y_train)\n",
    "    print(\"Training Accuracy = {:.3f}\".format(training_accuracy))\n",
    "print(\"Done\")   "
   ]
  },
  {
   "cell_type": "markdown",
   "metadata": {},
   "source": [
    "---\n",
    "\n",
    "## Step 3: Test a Model on New Images\n",
    "\n",
    "To give yourself more insight into how your model is working, download at least five pictures of German traffic signs from the web and use your model to predict the traffic sign type.\n",
    "\n",
    "You may find `signnames.csv` useful as it contains mappings from the class id (integer) to the actual sign name."
   ]
  },
  {
   "cell_type": "markdown",
   "metadata": {},
   "source": [
    "### Load and Output the Images"
   ]
  },
  {
   "cell_type": "code",
   "execution_count": 15,
   "metadata": {},
   "outputs": [
    {
     "data": {
      "image/png": "[encoded data removed]",
      "text/plain": [
       "<matplotlib.figure.Figure at 0x1419ba4e0>"
      ]
     },
     "metadata": {},
     "output_type": "display_data"
    },
    {
     "name": "stdout",
     "output_type": "stream",
     "text": [
      "shape of the image:  (32, 32, 3)\n",
      "\n"
     ]
    },
    {
     "data": {
      "image/png": "[encoded data removed]",
      "text/plain": [
       "<matplotlib.figure.Figure at 0x12c8b6ef0>"
      ]
     },
     "metadata": {},
     "output_type": "display_data"
    },
    {
     "name": "stdout",
     "output_type": "stream",
     "text": [
      "shape of the image:  (32, 32, 3)\n",
      "\n"
     ]
    },
    {
     "data": {
      "image/png": "[encoded data removed]",
      "text/plain": [
       "<matplotlib.figure.Figure at 0x12c8c30b8>"
      ]
     },
     "metadata": {},
     "output_type": "display_data"
    },
    {
     "name": "stdout",
     "output_type": "stream",
     "text": [
      "shape of the image:  (32, 32, 3)\n",
      "\n"
     ]
    },
    {
     "data": {
      "image/png": "[encoded data removed]",
      "text/plain": [
       "<matplotlib.figure.Figure at 0x12c8f7908>"
      ]
     },
     "metadata": {},
     "output_type": "display_data"
    },
    {
     "name": "stdout",
     "output_type": "stream",
     "text": [
      "shape of the image:  (32, 32, 3)\n",
      "\n"
     ]
    },
    {
     "data": {
      "image/png": "[encoded data removed]",
      "text/plain": [
       "<matplotlib.figure.Figure at 0x14300a278>"
      ]
     },
     "metadata": {},
     "output_type": "display_data"
    },
    {
     "name": "stdout",
     "output_type": "stream",
     "text": [
      "shape of the image:  (32, 32, 3)\n",
      "\n"
     ]
    }
   ],
   "source": [
    "### Load the images and plot them here.\n",
    "### Feel free to use as many code cells as needed.\n",
    "import glob\n",
    "\n",
    "image_paths = glob.glob('web_examples/*.jpeg')\n",
    "web_images = []\n",
    "for image_path in image_paths :\n",
    "    #print(image_path)\n",
    "    # cv2 reads as BGR\n",
    "    bgr_image = cv2.imread(image_path)\n",
    "    # convert to RGB\n",
    "    b,g,r = cv2.split(bgr_image)\n",
    "    image = cv2.merge([r,g,b])\n",
    "    # resize to 32x32\n",
    "    image = cv2.resize(image, (32, 32)) \n",
    "    # plot image\n",
    "    plt.figure(figsize=(1,1))\n",
    "    plt.imshow(image)\n",
    "    plt.show()\n",
    "    print(\"shape of the image: \", image.shape)\n",
    "    web_images.append(image)\n",
    "    print()\n",
    "\n",
    "X_web = np.asarray(web_images)\n",
    "y_web = np.array([3,9,17,11,19])  # manually populated based on the signnames table"
   ]
  },
  {
   "cell_type": "markdown",
   "metadata": {},
   "source": [
    "### Predict the Sign Type for Each Image"
   ]
  },
  {
   "cell_type": "code",
   "execution_count": 16,
   "metadata": {},
   "outputs": [
    {
     "name": "stdout",
     "output_type": "stream",
     "text": [
      "Predicted signs for each of the following images are :\n"
     ]
    },
    {
     "data": {
      "image/png": "[encoded data removed]",
      "text/plain": [
       "<matplotlib.figure.Figure at 0x108913978>"
      ]
     },
     "metadata": {},
     "output_type": "display_data"
    },
    {
     "name": "stdout",
     "output_type": "stream",
     "text": [
      "sign id: 3 Speed limit (60km/h)\n"
     ]
    },
    {
     "data": {
      "image/png": "[encoded data removed]",
      "text/plain": [
       "<matplotlib.figure.Figure at 0x1419cbfd0>"
      ]
     },
     "metadata": {},
     "output_type": "display_data"
    },
    {
     "name": "stdout",
     "output_type": "stream",
     "text": [
      "sign id: 9 No passing\n"
     ]
    },
    {
     "data": {
      "image/png": "[encoded data removed]",
      "text/plain": [
       "<matplotlib.figure.Figure at 0x14199fdd8>"
      ]
     },
     "metadata": {},
     "output_type": "display_data"
    },
    {
     "name": "stdout",
     "output_type": "stream",
     "text": [
      "sign id: 17 No entry\n"
     ]
    },
    {
     "data": {
      "image/png": "[encoded data removed]",
      "text/plain": [
       "<matplotlib.figure.Figure at 0x1592229b0>"
      ]
     },
     "metadata": {},
     "output_type": "display_data"
    },
    {
     "name": "stdout",
     "output_type": "stream",
     "text": [
      "sign id: 11 Right-of-way at the next intersection\n"
     ]
    },
    {
     "data": {
      "image/png": "[encoded data removed]",
      "text/plain": [
       "<matplotlib.figure.Figure at 0x1419ba9b0>"
      ]
     },
     "metadata": {},
     "output_type": "display_data"
    },
    {
     "name": "stdout",
     "output_type": "stream",
     "text": [
      "sign id: 19 Dangerous curve to the left\n"
     ]
    }
   ],
   "source": [
    "### Run the predictions here and use the model to output the prediction for each image.\n",
    "### Make sure to pre-process the images with the same pre-processing pipeline used earlier.\n",
    "### Feel free to use as many code cells as needed.\n",
    "\n",
    "# preprocess\n",
    "\n",
    "X_web = preprocess(X_web)\n",
    "\n",
    "prediction = tf.argmax(logits, 1)\n",
    "\n",
    "with tf.Session() as sess:\n",
    "    saver.restore(sess, max_valid_model_ckpt)\n",
    "    predicted_signs = sess.run(prediction, feed_dict={x: X_web})\n",
    "    \n",
    "print(\"Predicted signs for each of the following images are :\")\n",
    "for sign_id, web_img in zip(predicted_signs, web_images) :\n",
    "    # plot image\n",
    "    plt.figure(figsize=(1,1))\n",
    "    plt.imshow(web_img)\n",
    "    plt.show()\n",
    "    # print label\n",
    "    label = signnames[str(sign_id)]\n",
    "    print(\"sign id:\", sign_id, label)\n",
    "    "
   ]
  },
  {
   "cell_type": "markdown",
   "metadata": {},
   "source": [
    "### Analyze Performance"
   ]
  },
  {
   "cell_type": "code",
   "execution_count": 17,
   "metadata": {},
   "outputs": [
    {
     "name": "stdout",
     "output_type": "stream",
     "text": [
      "Accuracy % : 100.0\n"
     ]
    }
   ],
   "source": [
    "### Calculate the accuracy for these 5 new images. \n",
    "### For example, if the model predicted 1 out of 5 signs correctly, it's 20% accurate on these new images.\n",
    "num_correct = 0\n",
    "for i, j in zip(predicted_signs, y_web) :\n",
    "    if i == j :\n",
    "        num_correct += 1\n",
    "\n",
    "accuracy_pc = 100.0 * num_correct / len(y_web)\n",
    "print(\"Accuracy % :\", accuracy_pc)"
   ]
  },
  {
   "cell_type": "markdown",
   "metadata": {},
   "source": [
    "### Output Top 5 Softmax Probabilities For Each Image Found on the Web"
   ]
  },
  {
   "cell_type": "markdown",
   "metadata": {},
   "source": [
    "For each of the new images, print out the model's softmax probabilities to show the **certainty** of the model's predictions (limit the output to the top 5 probabilities for each image). [`tf.nn.top_k`](https://www.tensorflow.org/versions/r0.12/api_docs/python/nn.html#top_k) could prove helpful here. \n",
    "\n",
    "The example below demonstrates how tf.nn.top_k can be used to find the top k predictions for each image.\n",
    "\n",
    "`tf.nn.top_k` will return the values and indices (class ids) of the top k predictions. So if k=3, for each sign, it'll return the 3 largest probabilities (out of a possible 43) and the correspoding class ids.\n",
    "\n",
    "Take this numpy array as an example. The values in the array represent predictions. The array contains softmax probabilities for five candidate images with six possible classes. `tf.nn.top_k` is used to choose the three classes with the highest probability:\n",
    "\n",
    "```\n",
    "# (5, 6) array\n",
    "a = np.array([[ 0.24879643,  0.07032244,  0.12641572,  0.34763842,  0.07893497,\n",
    "         0.12789202],\n",
    "       [ 0.28086119,  0.27569815,  0.08594638,  0.0178669 ,  0.18063401,\n",
    "         0.15899337],\n",
    "       [ 0.26076848,  0.23664738,  0.08020603,  0.07001922,  0.1134371 ,\n",
    "         0.23892179],\n",
    "       [ 0.11943333,  0.29198961,  0.02605103,  0.26234032,  0.1351348 ,\n",
    "         0.16505091],\n",
    "       [ 0.09561176,  0.34396535,  0.0643941 ,  0.16240774,  0.24206137,\n",
    "         0.09155967]])\n",
    "```\n",
    "\n",
    "Running it through `sess.run(tf.nn.top_k(tf.constant(a), k=3))` produces:\n",
    "\n",
    "```\n",
    "TopKV2(values=array([[ 0.34763842,  0.24879643,  0.12789202],\n",
    "       [ 0.28086119,  0.27569815,  0.18063401],\n",
    "       [ 0.26076848,  0.23892179,  0.23664738],\n",
    "       [ 0.29198961,  0.26234032,  0.16505091],\n",
    "       [ 0.34396535,  0.24206137,  0.16240774]]), indices=array([[3, 0, 5],\n",
    "       [0, 1, 4],\n",
    "       [0, 5, 1],\n",
    "       [1, 3, 5],\n",
    "       [1, 4, 3]], dtype=int32))\n",
    "```\n",
    "\n",
    "Looking just at the first row we get `[ 0.34763842,  0.24879643,  0.12789202]`, you can confirm these are the 3 largest probabilities in `a`. You'll also notice `[3, 0, 5]` are the corresponding indices."
   ]
  },
  {
   "cell_type": "code",
   "execution_count": 18,
   "metadata": {},
   "outputs": [
    {
     "name": "stdout",
     "output_type": "stream",
     "text": [
      "TopKV2(values=array([[  9.97144878e-01,   1.48523925e-03,   1.08707347e-03,\n",
      "          2.29188387e-04,   2.60076358e-05],\n",
      "       [  9.05143559e-01,   8.71173516e-02,   7.70291500e-03,\n",
      "          3.60482336e-05,   1.94363821e-07],\n",
      "       [  1.00000000e+00,   3.38034022e-21,   3.05689849e-23,\n",
      "          5.96438702e-27,   2.84115184e-28],\n",
      "       [  9.99998093e-01,   1.71179101e-06,   1.40379228e-07,\n",
      "          7.17800432e-08,   5.22941779e-09],\n",
      "       [  9.99998093e-01,   1.66717109e-06,   1.98016849e-07,\n",
      "          4.16706669e-10,   1.83252788e-10]], dtype=float32), indices=array([[ 3, 36,  5, 38, 35],\n",
      "       [ 9, 41, 20, 10, 35],\n",
      "       [17, 22, 14, 34, 13],\n",
      "       [11,  1, 30, 21, 34],\n",
      "       [19,  2, 23, 30, 34]], dtype=int32))\n"
     ]
    }
   ],
   "source": [
    "### Print out the top five softmax probabilities for the predictions on the German traffic sign images found on the web. \n",
    "### Feel free to use as many code cells as needed.\n",
    "softmax = tf.nn.softmax(logits)\n",
    "top_5 = tf.nn.top_k(softmax, k=5)\n",
    "with tf.Session() as sess:\n",
    "    saver.restore(sess, max_valid_model_ckpt)\n",
    "    top_5_out = sess.run(top_5, feed_dict={x: X_web})\n",
    "    print(top_5_out)"
   ]
  },
  {
   "cell_type": "code",
   "execution_count": 19,
   "metadata": {},
   "outputs": [
    {
     "data": {
      "image/png": "[encoded data removed]",
      "text/plain": [
       "<matplotlib.figure.Figure at 0x143d9f9e8>"
      ]
     },
     "metadata": {},
     "output_type": "display_data"
    },
    {
     "data": {
      "image/png": "[encoded data removed]",
      "text/plain": [
       "<matplotlib.figure.Figure at 0x14312d518>"
      ]
     },
     "metadata": {},
     "output_type": "display_data"
    },
    {
     "data": {
      "image/png": "[encoded data removed]",
      "text/plain": [
       "<matplotlib.figure.Figure at 0x1430b45c0>"
      ]
     },
     "metadata": {},
     "output_type": "display_data"
    },
    {
     "data": {
      "image/png": "[encoded data removed]",
      "text/plain": [
       "<matplotlib.figure.Figure at 0x14137a400>"
      ]
     },
     "metadata": {},
     "output_type": "display_data"
    },
    {
     "data": {
      "image/png": "[encoded data removed]",
      "text/plain": [
       "<matplotlib.figure.Figure at 0x141373400>"
      ]
     },
     "metadata": {},
     "output_type": "display_data"
    },
    {
     "data": {
      "image/png": "[encoded data removed]",
      "text/plain": [
       "<matplotlib.figure.Figure at 0x116a636d8>"
      ]
     },
     "metadata": {},
     "output_type": "display_data"
    },
    {
     "data": {
      "image/png": "[encoded data removed]",
      "text/plain": [
       "<matplotlib.figure.Figure at 0x143de5780>"
      ]
     },
     "metadata": {},
     "output_type": "display_data"
    },
    {
     "data": {
      "image/png": "[encoded data removed]",
      "text/plain": [
       "<matplotlib.figure.Figure at 0x159726470>"
      ]
     },
     "metadata": {},
     "output_type": "display_data"
    },
    {
     "data": {
      "image/png": "[encoded data removed]",
      "text/plain": [
       "<matplotlib.figure.Figure at 0x159748550>"
      ]
     },
     "metadata": {},
     "output_type": "display_data"
    },
    {
     "data": {
      "image/png": "[encoded data removed]",
      "text/plain": [
       "<matplotlib.figure.Figure at 0x141c874a8>"
      ]
     },
     "metadata": {},
     "output_type": "display_data"
    }
   ],
   "source": [
    "num_web_images = len(web_images)   \n",
    "for i in range(0, num_web_images):\n",
    "    probs = top_5_out.values[i,:]\n",
    "    indices = top_5_out.indices[i,:]\n",
    "    labels = [signnames[str(elem)] for elem in indices]\n",
    "    # plot image\n",
    "    plt.figure(figsize=(1,1))\n",
    "    plt.imshow(web_images[i])\n",
    "    plt.show()\n",
    "    # plot barchart\n",
    "    y_pos = np.arange(len(labels)) \n",
    "    plt.barh(y_pos, probs, align='center', alpha=0.5)\n",
    "    plt.yticks(y_pos, labels)\n",
    "    plt.xlabel('Signs')\n",
    "    plt.title('Top 5 Softmax Probabilities')\n",
    "    plt.show()    \n"
   ]
  },
  {
   "cell_type": "markdown",
   "metadata": {},
   "source": [
    "### Project Writeup\n",
    "\n",
    "Once you have completed the code implementation, document your results in a project writeup using this [template](https://github.com/udacity/CarND-Traffic-Sign-Classifier-Project/blob/master/writeup_template.md) as a guide. The writeup can be in a markdown or pdf file. "
   ]
  },
  {
   "cell_type": "markdown",
   "metadata": {},
   "source": [
    "> **Note**: Once you have completed all of the code implementations and successfully answered each question above, you may finalize your work by exporting the iPython Notebook as an HTML document. You can do this by using the menu above and navigating to  \\n\",\n",
    "    \"**File -> Download as -> HTML (.html)**. Include the finished document along with this notebook as your submission."
   ]
  },
  {
   "cell_type": "markdown",
   "metadata": {},
   "source": [
    "---\n",
    "\n",
    "## Step 4 (Optional): Visualize the Neural Network's State with Test Images\n",
    "\n",
    " This Section is not required to complete but acts as an additional excersise for understaning the output of a neural network's weights. While neural networks can be a great learning device they are often referred to as a black box. We can understand what the weights of a neural network look like better by plotting their feature maps. After successfully training your neural network you can see what it's feature maps look like by plotting the output of the network's weight layers in response to a test stimuli image. From these plotted feature maps, it's possible to see what characteristics of an image the network finds interesting. For a sign, maybe the inner network feature maps react with high activation to the sign's boundary outline or to the contrast in the sign's painted symbol.\n",
    "\n",
    " Provided for you below is the function code that allows you to get the visualization output of any tensorflow weight layer you want. The inputs to the function should be a stimuli image, one used during training or a new one you provided, and then the tensorflow variable name that represents the layer's state during the training process, for instance if you wanted to see what the [LeNet lab's](https://classroom.udacity.com/nanodegrees/nd013/parts/fbf77062-5703-404e-b60c-95b78b2f3f9e/modules/6df7ae49-c61c-4bb2-a23e-6527e69209ec/lessons/601ae704-1035-4287-8b11-e2c2716217ad/concepts/d4aca031-508f-4e0b-b493-e7b706120f81) feature maps looked like for it's second convolutional layer you could enter conv2 as the tf_activation variable.\n",
    "\n",
    "For an example of what feature map outputs look like, check out NVIDIA's results in their paper [End-to-End Deep Learning for Self-Driving Cars](https://devblogs.nvidia.com/parallelforall/deep-learning-self-driving-cars/) in the section Visualization of internal CNN State. NVIDIA was able to show that their network's inner weights had high activations to road boundary lines by comparing feature maps from an image with a clear path to one without. Try experimenting with a similar test to show that your trained network's weights are looking for interesting features, whether it's looking at differences in feature maps from images with or without a sign, or even what feature maps look like in a trained network vs a completely untrained one on the same sign image.\n",
    "\n",
    "<figure>\n",
    " <img src=\"visualize_cnn.png\" width=\"380\" alt=\"Combined Image\" />\n",
    " <figcaption>\n",
    " <p></p> \n",
    " <p style=\"text-align: center;\"> Your output should look something like this (above)</p> \n",
    " </figcaption>\n",
    "</figure>\n",
    " <p></p> \n"
   ]
  },
  {
   "cell_type": "code",
   "execution_count": 301,
   "metadata": {},
   "outputs": [],
   "source": [
    "### Visualize your network's feature maps here.\n",
    "### Feel free to use as many code cells as needed.\n",
    "\n",
    "# image_input: the test image being fed into the network to produce the feature maps\n",
    "# tf_activation: should be a tf variable name used during your training procedure that represents the calculated state of a specific weight layer\n",
    "# activation_min/max: can be used to view the activation contrast in more detail, by default matplot sets min and max to the actual min and max values of the output\n",
    "# plt_num: used to plot out multiple different weight feature map sets on the same block, just extend the plt number for each new feature map entry\n",
    "\n",
    "def outputFeatureMap(image_input, tf_activation, activation_min=-1, activation_max=-1 ,plt_num=1):\n",
    "    # Here make sure to preprocess your image_input in a way your network expects\n",
    "    # with size, normalization, ect if needed\n",
    "    # image_input =\n",
    "    # Note: x should be the same name as your network's tensorflow data placeholder variable\n",
    "    # If you get an error tf_activation is not defined it may be having trouble accessing the variable from inside a function\n",
    "    activation = tf_activation.eval(session=sess,feed_dict={x : image_input})\n",
    "    featuremaps = activation.shape[3]\n",
    "    plt.figure(plt_num, figsize=(15,15))\n",
    "    for featuremap in range(featuremaps):\n",
    "        plt.subplot(6,8, featuremap+1) # sets the number of feature maps to show on each row and column\n",
    "        plt.title('FeatureMap ' + str(featuremap)) # displays the feature map number\n",
    "        if activation_min != -1 & activation_max != -1:\n",
    "            plt.imshow(activation[0,:,:, featuremap], interpolation=\"nearest\", vmin =activation_min, vmax=activation_max, cmap=\"gray\")\n",
    "        elif activation_max != -1:\n",
    "            plt.imshow(activation[0,:,:, featuremap], interpolation=\"nearest\", vmax=activation_max, cmap=\"gray\")\n",
    "        elif activation_min !=-1:\n",
    "            plt.imshow(activation[0,:,:, featuremap], interpolation=\"nearest\", vmin=activation_min, cmap=\"gray\")\n",
    "        else:\n",
    "            plt.imshow(activation[0,:,:, featuremap], interpolation=\"nearest\", cmap=\"gray\")"
   ]
  }
 ],
 "metadata": {
  "anaconda-cloud": {},
  "kernelspec": {
   "display_name": "Python 3",
   "language": "python",
   "name": "python3"
  },
  "language_info": {
   "codemirror_mode": {
    "name": "ipython",
    "version": 3
   },
   "file_extension": ".py",
   "mimetype": "text/x-python",
   "name": "python",
   "nbconvert_exporter": "python",
   "pygments_lexer": "ipython3",
   "version": "3.5.2"
  },
  "widgets": {
   "state": {},
   "version": "1.1.2"
  }
 },
 "nbformat": 4,
 "nbformat_minor": 1
}
